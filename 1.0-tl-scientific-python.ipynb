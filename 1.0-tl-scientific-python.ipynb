{
 "cells": [
  {
   "cell_type": "markdown",
   "metadata": {},
   "source": [
    "# Exercise 1"
   ]
  },
  {
   "cell_type": "markdown",
   "metadata": {},
   "source": [
    "## Import packages"
   ]
  },
  {
   "cell_type": "code",
   "execution_count": 1,
   "metadata": {},
   "outputs": [],
   "source": [
    "import skimage.io\n",
    "import skimage.color\n",
    "import skimage.exposure\n",
    "import numpy as np\n",
    "import matplotlib.pyplot as plt"
   ]
  },
  {
   "cell_type": "markdown",
   "metadata": {},
   "source": [
    "## Task 1\n",
    "\n",
    "Implementation of some basic vector and matrix calculations using NumPy.\n",
    "\n",
    "Reference: https://numpy.org/doc/1.18/reference/index.html"
   ]
  },
  {
   "cell_type": "markdown",
   "metadata": {},
   "source": [
    "Create the following vectors and matrix using numpy. They should use floating point as data type.\n",
    "$$\n",
    "a = \\begin{bmatrix}\n",
    "1 & 0 & 1 & 0 & 1\n",
    "\\end{bmatrix}\n",
    "$$\n",
    "\n",
    "$$\n",
    "b = \\begin{bmatrix}\n",
    "1 & 2 & 3 & 4 & 5\n",
    "\\end{bmatrix}\n",
    "$$\n",
    "\n",
    "$$\n",
    "M =\\begin{bmatrix}\n",
    "1 & 2 & 3\\\\\n",
    "4 & 5 & 6\\\\\n",
    "7 & 8 & 9\\\\\n",
    "\\end{bmatrix}\n",
    "$$\n",
    "\n",
    "Also define the following scalar value\n",
    "$$k = 5.0$$"
   ]
  },
  {
   "cell_type": "code",
   "execution_count": 8,
   "metadata": {},
   "outputs": [
    {
     "name": "stdout",
     "output_type": "stream",
     "text": [
      "a = [1. 0. 1. 0. 1.]\n",
      "b = [1. 2. 3. 4. 5.]\n",
      "M = [[1. 2. 3.]\n",
      " [4. 5. 6.]\n",
      " [7. 8. 9.]]\n",
      "k = 5.0\n"
     ]
    }
   ],
   "source": [
    "# TODO: Create vectors, matrix and scalar value\n",
    "a = np.array([1, 0, 1, 0, 1], dtype=float)\n",
    "b = np.array([1, 2, 3, 4, 5], dtype=float)\n",
    "M = np.array([\n",
    "    [1, 2, 3],\n",
    "    [4, 5, 6],\n",
    "    [7, 8, 9]], dtype=float\n",
    ")\n",
    "       \n",
    "k = 5.0\n",
    "\n",
    "print(f'a = {a}')\n",
    "print(f'b = {b}')\n",
    "print(f'M = {M}')\n",
    "print(f'k = {k}')"
   ]
  },
  {
   "cell_type": "code",
   "execution_count": 16,
   "metadata": {},
   "outputs": [
    {
     "name": "stdout",
     "output_type": "stream",
     "text": [
      "a + b = [2. 2. 4. 4. 6.]\n",
      "k * a = [5. 0. 5. 0. 5.]\n",
      "<a, b> = 9.0\n",
      "c = [0. 1. 0.]\n",
      "c * M = [[0. 2. 0.]\n",
      " [0. 5. 0.]\n",
      " [0. 8. 0.]]\n",
      "<c, M> = [4. 5. 6.]\n",
      "d_small = [40 50 60]\n"
     ]
    }
   ],
   "source": [
    "# TODO: Add vector a with vector b\n",
    "add = a + b \n",
    "np.testing.assert_allclose(add, np.array([2, 2, 4, 4, 6]))\n",
    "print(f'a + b = {add}')\n",
    "\n",
    "# TODO: Multiply vector a with scalar value k\n",
    "mult = k * a \n",
    "np.testing.assert_allclose(mult, np.array([5, 0, 5, 0, 5]))\n",
    "print(f'k * a = {mult}')\n",
    "\n",
    "# TODO: Dot product between a and b\n",
    "dot = np.dot(a, b)\n",
    "np.testing.assert_allclose(dot, 9.0)\n",
    "print(f'<a, b> = {dot}')\n",
    "\n",
    "# TODO: Create vector c by slicing vector a in order to get [0, 1, 0]\n",
    "c = a[1:4]\n",
    "np.testing.assert_allclose(c, [0, 1, 0])\n",
    "print(f'c = {c}')\n",
    "\n",
    "# TODO: Multiply vector c with matrix M\n",
    "cM_mult = c * M\n",
    "np.testing.assert_allclose(cM_mult, [[0, 2, 0], [0, 5, 0], [0, 8, 0]])\n",
    "print(f'c * M = {cM_mult}')\n",
    "\n",
    "# TODO: Dot product between vector and matrix M\n",
    "cM_dot = np.dot(c, M)\n",
    "np.testing.assert_allclose(cM_dot, [4, 5, 6])\n",
    "print(f'<c, M> = {cM_dot}')\n",
    "\n",
    "# TODO: Use a numpy-helper function to create a vector d = [0, 1, 2 ..., 99]\n",
    "d = np.arange(100)\n",
    "\n",
    "# TODO: Now use slicing with strides to reduce this vector to d_small = [40, 50, 60]\n",
    "d_small = d[40:61:10]\n",
    "np.testing.assert_allclose(d_small, [40, 50, 60])\n",
    "\n",
    "print(f'd_small = {d_small}')"
   ]
  },
  {
   "cell_type": "markdown",
   "metadata": {},
   "source": [
    "## Task 2\n",
    "\n",
    "1. Load the image in ```./data/pepo.jpg``` from your disk and store it in a variable named ```image``` (use ```skimage.io```).\n",
    "2. Store and print the shape of the image and the value range (min and max values).\n",
    "3. Convert it to gray scale and save it in a variable named ```image_gray``` (use ```skimage.color```).\n",
    "4. Store and print the shape of the grayscale image and the value range (min and max values).\n",
    "5. Save the grayscale image back to disk in ```./data/pepo_gray.jpg``` (use ```skimage.io```).\n",
    "6. Use Matplotlib to show the RGB and the grayscale image side by side.\n",
    "\n",
    "Reference: https://scikit-image.org/docs/stable/index.html  \n",
    "Reference: https://matplotlib.org/users/index.html  "
   ]
  },
  {
   "cell_type": "code",
   "execution_count": null,
   "metadata": {},
   "outputs": [],
   "source": [
    "# TODO: 1. Load the image in ./data/pepo.jpg from your disk and store it in a variable named image\n",
    "image = \n",
    "\n",
    "# TODO: 2. Store and print the shape of the image and the value range (min and max values)\n",
    "\n",
    "print(f'RGB image shape: {rgb_image_shape}')\n",
    "print(f'RGB image min: {rgb_min}')\n",
    "print(f'RGB image max: {rgb_max}')\n",
    "\n",
    "# TODO: 3. Convert it to gray scale and save it in a variable named image_gray\n",
    "image_gray = \n",
    "\n",
    "# TODO: 4. Store and print the shape of the grayscale image and the value range (min and max values)\n",
    "\n",
    "print(f'Grayscale image shape: {grayscale_image_shape}')\n",
    "print(f'Grayscale image min: {grayscale_min}')\n",
    "print(f'Grayscale image max: {grayscale_max}')\n",
    "\n",
    "# TODO: 5. Save the grayscale image back to disk in ./data/pepo_gray.jpg\n"
   ]
  },
  {
   "cell_type": "code",
   "execution_count": 5,
   "metadata": {},
   "outputs": [],
   "source": [
    "# TODO: 6. Use Matplotlib to show the RGB and the grayscale image side by side.\n",
    "# Make sure that the gray image is displayed in gray.\n"
   ]
  },
  {
   "cell_type": "markdown",
   "metadata": {},
   "source": [
    "## Task 3\n",
    "\n",
    "Plot the color histogram of the rgb image.\n",
    "\n",
    "Reference: https://matplotlib.org/users/index.html"
   ]
  },
  {
   "cell_type": "code",
   "execution_count": null,
   "metadata": {},
   "outputs": [],
   "source": [
    "def plot_color_histogram(image):\n",
    "    '''\n",
    "    Plot the histogram of each color channel into a single plot.\n",
    "    Take a look at the scikit-image submodule skimage.exposure\n",
    "\n",
    "    image -- RGB image\n",
    "    '''\n",
    "    # TODO: implement this function\n",
    "    \n",
    "    pass\n",
    "    \n",
    "plot_color_histogram(image)"
   ]
  },
  {
   "cell_type": "markdown",
   "metadata": {},
   "source": [
    "## Task 4\n",
    "\n",
    "Convert the RGB image into the HSV color space. Rotate the colors in the HSV color space, convert it back to the RGB color space and plot it together with its histogram. For this task, you are only allowed to use NumPy.\n",
    "\n",
    "More information about the HSV color space: https://en.wikipedia.org/wiki/HSL_and_HSV"
   ]
  },
  {
   "cell_type": "code",
   "execution_count": 7,
   "metadata": {},
   "outputs": [],
   "source": [
    "def rgb2hsv(image):\n",
    "    '''\n",
    "    Convert the rgb image into hsv color space and return it.\n",
    "\n",
    "    image -- rgb image\n",
    "    '''\n",
    "    # TODO: implement function\n",
    "    \n",
    "    return hsv\n",
    "\n",
    "def hsv2rgb(image):\n",
    "    '''\n",
    "    Convert the hsv image into rgb color space and return it.\n",
    "\n",
    "    image -- rgb image\n",
    "    '''\n",
    "    # TODO: implement function\n",
    "    \n",
    "    return rgb.astype(np.uint8)"
   ]
  },
  {
   "cell_type": "code",
   "execution_count": null,
   "metadata": {},
   "outputs": [],
   "source": [
    "# Change the color space from rgb to hsv and plot it\n",
    "image_hsv = rgb2hsv(image)\n",
    "\n",
    "# TODO: plot image\n",
    "\n",
    "\n",
    "# TODO: Rotate the colors in hsv color space\n",
    "\n",
    "\n",
    "# TODO: Now, convert it back from HSV to RGB and plot it\n",
    "\n",
    "\n",
    "# TODO: Plot the color histogram of the inverted rgb image\n"
   ]
  },
  {
   "cell_type": "code",
   "execution_count": null,
   "metadata": {},
   "outputs": [],
   "source": []
  }
 ],
 "metadata": {
  "kernelspec": {
   "display_name": "3dcv-students",
   "language": "python",
   "name": "python3"
  },
  "language_info": {
   "codemirror_mode": {
    "name": "ipython",
    "version": 3
   },
   "file_extension": ".py",
   "mimetype": "text/x-python",
   "name": "python",
   "nbconvert_exporter": "python",
   "pygments_lexer": "ipython3",
   "version": "3.10.16"
  }
 },
 "nbformat": 4,
 "nbformat_minor": 4
}
